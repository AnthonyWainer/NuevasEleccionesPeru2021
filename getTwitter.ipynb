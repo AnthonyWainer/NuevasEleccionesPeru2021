{
 "nbformat": 4,
 "nbformat_minor": 0,
 "metadata": {
  "kernelspec": {
   "display_name": "Python 3",
   "language": "python",
   "name": "python3"
  },
  "language_info": {
   "codemirror_mode": {
    "name": "ipython",
    "version": 3
   },
   "file_extension": ".py",
   "mimetype": "text/x-python",
   "name": "python",
   "nbconvert_exporter": "python",
   "pygments_lexer": "ipython3",
   "version": "3.6.9"
  },
  "colab": {
   "name": "getTwitter.ipynb",
   "provenance": [],
   "collapsed_sections": []
  }
 },
 "cells": [
  {
   "cell_type": "code",
   "metadata": {
    "id": "nwCEwQghs70C",
    "executionInfo": {
     "status": "ok",
     "timestamp": 1623766832472,
     "user_tz": 300,
     "elapsed": 200,
     "user": {
      "displayName": "ANTHONY WAINER CACHAY GUIVIN",
      "photoUrl": "https://lh3.googleusercontent.com/a-/AOh14GhAz8h657S9s4TGvAa5jYfK_MRhcxtzLYghUq1w=s64",
      "userId": "18006927705842779531"
     }
    }
   },
   "source": [
    "import tweepy \n",
    "\n",
    "\n",
    "api_key = \"\"\n",
    "api_secret = \"\"\n",
    "\n",
    "access_token = \"\"\n",
    "access_token_secret = \"\""
   ],
   "execution_count": 1,
   "outputs": []
  },
  {
   "cell_type": "code",
   "metadata": {
    "id": "0B_8tOQps70R",
    "executionInfo": {
     "status": "ok",
     "timestamp": 1623766833558,
     "user_tz": 300,
     "elapsed": 199,
     "user": {
      "displayName": "ANTHONY WAINER CACHAY GUIVIN",
      "photoUrl": "https://lh3.googleusercontent.com/a-/AOh14GhAz8h657S9s4TGvAa5jYfK_MRhcxtzLYghUq1w=s64",
      "userId": "18006927705842779531"
     }
    }
   },
   "source": [
    "auth = tweepy.OAuthHandler(api_key, api_secret)                                                "
   ],
   "execution_count": 2,
   "outputs": []
  },
  {
   "cell_type": "code",
   "metadata": {
    "id": "i62mvSlms70e",
    "executionInfo": {
     "status": "ok",
     "timestamp": 1623766834095,
     "user_tz": 300,
     "elapsed": 2,
     "user": {
      "displayName": "ANTHONY WAINER CACHAY GUIVIN",
      "photoUrl": "https://lh3.googleusercontent.com/a-/AOh14GhAz8h657S9s4TGvAa5jYfK_MRhcxtzLYghUq1w=s64",
      "userId": "18006927705842779531"
     }
    }
   },
   "source": [
    "auth.set_access_token(access_token,access_token_secret)"
   ],
   "execution_count": 3,
   "outputs": []
  },
  {
   "cell_type": "code",
   "metadata": {
    "id": "DveXhIVYs70r",
    "executionInfo": {
     "status": "ok",
     "timestamp": 1623766834826,
     "user_tz": 300,
     "elapsed": 4,
     "user": {
      "displayName": "ANTHONY WAINER CACHAY GUIVIN",
      "photoUrl": "https://lh3.googleusercontent.com/a-/AOh14GhAz8h657S9s4TGvAa5jYfK_MRhcxtzLYghUq1w=s64",
      "userId": "18006927705842779531"
     }
    }
   },
   "source": [
    "api = tweepy.API(auth)"
   ],
   "execution_count": 4,
   "outputs": []
  },
  {
   "cell_type": "code",
   "metadata": {
    "colab": {
     "base_uri": "https://localhost:8080/"
    },
    "id": "hHjLQRSEw9er",
    "executionInfo": {
     "status": "ok",
     "timestamp": 1623766835554,
     "user_tz": 300,
     "elapsed": 204,
     "user": {
      "displayName": "ANTHONY WAINER CACHAY GUIVIN",
      "photoUrl": "https://lh3.googleusercontent.com/a-/AOh14GhAz8h657S9s4TGvAa5jYfK_MRhcxtzLYghUq1w=s64",
      "userId": "18006927705842779531"
     }
    },
    "outputId": "7a1c9bbd-2409-42ac-c94a-5e54c4729e77"
   },
   "source": [
    "try:\n",
    "    api.verify_credentials()\n",
    "\n",
    "    print(\"Authentication OK\")\n",
    "\n",
    "except:\n",
    "\n",
    "  print(\"Error during authentication\")"
   ],
   "execution_count": 5,
   "outputs": [
    {
     "output_type": "stream",
     "text": [
      "Authentication OK\n"
     ],
     "name": "stdout"
    }
   ]
  },
  {
   "cell_type": "code",
   "metadata": {
    "id": "Oq7AI6LEztrt",
    "colab": {
     "base_uri": "https://localhost:8080/"
    },
    "executionInfo": {
     "status": "ok",
     "timestamp": 1623769108067,
     "user_tz": 300,
     "elapsed": 2241450,
     "user": {
      "displayName": "ANTHONY WAINER CACHAY GUIVIN",
      "photoUrl": "https://lh3.googleusercontent.com/a-/AOh14GhAz8h657S9s4TGvAa5jYfK_MRhcxtzLYghUq1w=s64",
      "userId": "18006927705842779531"
     }
    },
    "outputId": "189631c5-8591-4336-98b1-58f941d5f5f6"
   },
   "source": [
    "tweets = []\n",
    "\n",
    "count = 0\n",
    "for tweet in tweepy.Cursor(api.search,q=\"#NuevasEleccionesPeru\",\n",
    "                           timeout=1, wait_on_rate_limit=True,\n",
    "                           lang=\"es\",\n",
    "                           since=\"2021-04-14\", until=\"2021-06-15\",  tweet_mode=\"extended\").items(10000):\n",
    "\n",
    "    if \"retweeted_status\" in dir(tweet):\n",
    "        tweet_text = tweet.retweeted_status.full_text\n",
    "    else:\n",
    "        tweet_text = tweet.full_text\n",
    "      \n",
    "    tweets.append([tweet.user.screen_name,\ttweet.user.id,\ttweet_text,\ttweet.id,\tNone,\ttweet.created_at,\ttweet.favorite_count, tweet.retweet_count,\ttweet.user.location])\n",
    "\n",
    "    if count%500 == 0:\n",
    "      print(f\"Tweet {count}:\", [tweet.user.screen_name,\ttweet.user.id,\ttweet_text,\ttweet.id,\tNone,\ttweet.created_at,\ttweet.favorite_count, tweet.retweet_count,\ttweet.user.location])  \n",
    "    \n",
    "    count += 1"
   ],
   "execution_count": 9,
   "outputs": [
    {
     "output_type": "stream",
     "text": [
      "Tweet 0: ['Justakindofsad', 763481767558995968, 'Keiko pide #NuevasEleccionesPeru\\nTantos compromisos firmados fueron un engaño.\\n#GolpeElectoralDeKeiko #dobleDiscurso https://t.co/LL33xx2asg', 1404589459891535872, None, datetime.datetime(2021, 6, 14, 23, 59, 57), 0, 377, 'Room']\n",
      "Tweet 500: ['Carlos_Merma', 45201415, 'Por la estabilidad y gobernabilidad del país.  #NuevasEleccionesPeru', 1404582122132848641, None, datetime.datetime(2021, 6, 14, 23, 30, 48), 0, 392, 'Tacna']\n",
      "Tweet 1000: ['RossAlexandraM', 178496655, 'Si saben que exhortar #NuevasEleccionesPeru es antidemocrático, verdad? Se estarían llevando abajo todo el voto popular \"que defienden\" ya que, si esto sería muy fácil; para la primera, vuelta hubiéramos hecho lo mismo. Piensen un poco en lo que están pidiendo.', 1404576038005444612, None, datetime.datetime(2021, 6, 14, 23, 6, 37), 0, 1, 'Lima-Peru']\n",
      "Tweet 1500: ['mercedialo', 2929691009, '¿En serio, cree la lideresa de #FuerzaCriminal q de haber #NuevasEleccionesPeru la gente va a votar por ella? Hasta aquí su carrera narcopolítica. Y lo bueno es q con lo q está haciendo se eliminándo a ella y a todos los Fujimori q vienen detrás.', 1404569189352890369, None, datetime.datetime(2021, 6, 14, 22, 39, 25), 0, 215, '']\n",
      "Tweet 2000: ['rafavalientes', 1361987159889240065, 'Jóvenes patriotas han encontrado mas de mil 400 mesas con sospechas de toda índole , serían  trabajadores del interno de la Onpe ???\\n#FraundeEnMesa \\n#RespetaMiVoto \\n#FraudeEnPeru\\n#ONPE \\n#ONPEinforma \\n#onpecorrupta \\n#NuevasElecciones \\n#NuevasEleccionesPeru \\n#NuevasEleccionesYa https://t.co/9DcKPB0cVG', 1404562985666985985, None, datetime.datetime(2021, 6, 14, 22, 14, 45), 0, 260, 'Peru']\n",
      "Tweet 2500: ['aab211191', 43822891, 'Oe que FUERTE! #fraude #NuevasEleccionesPeru #SOSPeru #BetoOrtiz https://t.co/USkUcVWEM9', 1404557394299047938, None, datetime.datetime(2021, 6, 14, 21, 52, 32), 0, 0, '']\n",
      "Tweet 3000: ['Lunita14190458', 1305504056346107904, 'SHHH CÁLLATE NO ERES JIMIN CANTANDO EN ESPAÑOL 😘👍🏻#NuevasEleccionesPeru https://t.co/T3ht1iFFK2', 1404551933592059905, None, datetime.datetime(2021, 6, 14, 21, 30, 50), 4, 0, '']\n",
      "Tweet 3500: ['victorhponce', 117139906, '#UrgenteNuevasEleccionesEnPeru  BOTEN a toda la lacra roja del @JNE_Peru @ONPE_oficial @ReniecPeru estos comunistas estas atrincherados y debe ir PRESOS por este #FraundeEnMesa defendamos la democracia,los comunistas nos ROBARON LA ELECCIÓN.Urgente!#NuevasEleccionesPeru https://t.co/NXN12DeidN', 1404546255838236672, None, datetime.datetime(2021, 6, 14, 21, 8, 17), 0, 100, 'Lima- Perú']\n",
      "Tweet 4000: ['CarmenEstradaP2', 1380658852262248449, '#NuevasEleccionesPeru  significa golpe, significa el peso de las organizaciones criminales sobre el orden democrático, significa #CORRUPCIÓN #GolpeElectoralDeKeiko', 1404541447878156291, None, datetime.datetime(2021, 6, 14, 20, 49, 10), 0, 378, 'Perú']\n",
      "Tweet 4500: ['anthonyUrrunaga', 3581511737, 'No habrá nuevas elecciones asi lloren y se tiren al piso a renegar 🤡🤡🤡🤡\\n#Keikino\\n#KEIKOGOLPISTA\\n#NuevasEleccionesPeru https://t.co/KTJa3Dn34M', 1404537252919848969, None, datetime.datetime(2021, 6, 14, 20, 32, 30), 12, 0, 'Cutervo, Peru']\n",
      "Tweet 5000: ['Ketty89171930', 1401705910570004480, 'Para el asno de un fujimorista si el cero votos es para Keiko es fraude, ahh pero si es para PL, ya los veo respeten el voto, respeten mi voto pfffffffffff #NuevasEleccionesPeru https://t.co/8twLvny6fY', 1404532522025984000, None, datetime.datetime(2021, 6, 14, 20, 13, 42), 0, 1, '']\n",
      "Tweet 5500: ['Guiller10683784', 1212172710286987265, 'Alguien se acuerda que en la primera vuelta aliaga denunciaba robo de votos? \\nhttps://t.co/z1jHRlagld\\nY alguien se acuerda cuando a castillo se reia al decirle que no iba a llegar a segunda? \\nhttps://t.co/LWQtVhequa \\nAhora entiendo todo #FraundeEnMesa #NuevasEleccionesPeru https://t.co/ynUEeNe0eo', 1404528166996168706, None, datetime.datetime(2021, 6, 14, 19, 56, 24), 0, 53, '']\n",
      "Tweet 6000: ['EdsonAguilar97', 1279411656, 'Esto ya no se trata de defender los votos de Keiko Fujimori, se trata de defender la democracia de las garras de los delincuentes.\\n\\n#NuevasEleccionesPeru https://t.co/yAEIjRh7U0', 1404523598195441666, None, datetime.datetime(2021, 6, 14, 19, 38, 15), 0, 56, 'Lima']\n",
      "Tweet 6500: ['iconicqueentini', 1181206348744347649, 'Por la estabilidad y gobernabilidad del país.  #NuevasEleccionesPeru', 1404518500345995264, None, datetime.datetime(2021, 6, 14, 19, 17, 59), 0, 393, '']\n",
      "Tweet 7000: ['anyce18', 2233624327, 'Con peritaje!! Incluido ! \\n#NuevasEleccionesPeru https://t.co/h3IULZN781', 1404512840917131265, None, datetime.datetime(2021, 6, 14, 18, 55, 30), 0, 573, '']\n",
      "Tweet 7500: ['Miaibar', 3078878164, 'Dada la peligrosa coyuntura que estamos viviendo, los casos demostrados de fraude, la parcializacion de instituciones y la division en la que estamos enfrascados. Consideramos que lo mejor que nos podria pasar como país son #NuevasEleccionesPeru', 1404483406768095234, None, datetime.datetime(2021, 6, 14, 16, 58, 32), 0, 92, 'Lima, Perú']\n",
      "Tweet 8000: ['sebastian_0326', 1294779664414711808, 'Anulemos estas elecciones truchas y fraudulentas !! \\n#NuevasEleccionesPeru', 1404354278660182017, None, datetime.datetime(2021, 6, 14, 8, 25, 26), 0, 472, 'Lima, Perú']\n",
      "Tweet 8500: ['combatiente1960', 2955884481, 'El video muestra el evidente fraude sistematico de Peru Libre\\n#NuevasEleccionesPeru https://t.co/8l0o6i0Son', 1403812739907309570, None, datetime.datetime(2021, 6, 12, 20, 33, 33), 0, 19, '']\n"
     ],
     "name": "stdout"
    }
   ]
  },
  {
   "cell_type": "code",
   "metadata": {
    "id": "GQQXB9uijGRy",
    "colab": {
     "base_uri": "https://localhost:8080/"
    },
    "executionInfo": {
     "status": "ok",
     "timestamp": 1623769116092,
     "user_tz": 300,
     "elapsed": 200,
     "user": {
      "displayName": "ANTHONY WAINER CACHAY GUIVIN",
      "photoUrl": "https://lh3.googleusercontent.com/a-/AOh14GhAz8h657S9s4TGvAa5jYfK_MRhcxtzLYghUq1w=s64",
      "userId": "18006927705842779531"
     }
    },
    "outputId": "1c854d40-2d02-4de1-c0e4-6b4cdd0831a0"
   },
   "source": [
    "len(tweets)"
   ],
   "execution_count": 10,
   "outputs": [
    {
     "output_type": "execute_result",
     "data": {
      "text/plain": [
       "8912"
      ]
     },
     "metadata": {
      "tags": []
     },
     "execution_count": 10
    }
   ]
  },
  {
   "cell_type": "code",
   "metadata": {
    "id": "ul0FvBF1E9GP",
    "colab": {
     "base_uri": "https://localhost:8080/",
     "height": 419
    },
    "executionInfo": {
     "status": "ok",
     "timestamp": 1623769128389,
     "user_tz": 300,
     "elapsed": 218,
     "user": {
      "displayName": "ANTHONY WAINER CACHAY GUIVIN",
      "photoUrl": "https://lh3.googleusercontent.com/a-/AOh14GhAz8h657S9s4TGvAa5jYfK_MRhcxtzLYghUq1w=s64",
      "userId": "18006927705842779531"
     }
    },
    "outputId": "8213648b-bd89-412a-8e45-4801fe0dc1a5"
   },
   "source": [
    "import pandas as pd\n",
    "\n",
    "df = pd.DataFrame(data=tweets, columns=['user_name',\t'user_id',\t'tweet',\t'tweet_id',\t'reply_id',\t'created_at',\t'favourite_count',\t'retweet_count',\t'location']).drop_duplicates()\n",
    "\n",
    "df"
   ],
   "execution_count": 11,
   "outputs": [
    {
     "output_type": "execute_result",
     "data": {
      "text/html": [
       "<div>\n",
       "<style scoped>\n",
       "    .dataframe tbody tr th:only-of-type {\n",
       "        vertical-align: middle;\n",
       "    }\n",
       "\n",
       "    .dataframe tbody tr th {\n",
       "        vertical-align: top;\n",
       "    }\n",
       "\n",
       "    .dataframe thead th {\n",
       "        text-align: right;\n",
       "    }\n",
       "</style>\n",
       "<table border=\"1\" class=\"dataframe\">\n",
       "  <thead>\n",
       "    <tr style=\"text-align: right;\">\n",
       "      <th></th>\n",
       "      <th>user_name</th>\n",
       "      <th>user_id</th>\n",
       "      <th>tweet</th>\n",
       "      <th>tweet_id</th>\n",
       "      <th>reply_id</th>\n",
       "      <th>created_at</th>\n",
       "      <th>favourite_count</th>\n",
       "      <th>retweet_count</th>\n",
       "      <th>location</th>\n",
       "    </tr>\n",
       "  </thead>\n",
       "  <tbody>\n",
       "    <tr>\n",
       "      <th>0</th>\n",
       "      <td>Justakindofsad</td>\n",
       "      <td>763481767558995968</td>\n",
       "      <td>Keiko pide #NuevasEleccionesPeru\\nTantos compr...</td>\n",
       "      <td>1404589459891535872</td>\n",
       "      <td>None</td>\n",
       "      <td>2021-06-14 23:59:57</td>\n",
       "      <td>0</td>\n",
       "      <td>377</td>\n",
       "      <td>Room</td>\n",
       "    </tr>\n",
       "    <tr>\n",
       "      <th>1</th>\n",
       "      <td>Glamourocita</td>\n",
       "      <td>33596720</td>\n",
       "      <td>Con peritaje!! Incluido ! \\n#NuevasEleccionesP...</td>\n",
       "      <td>1404589453956501507</td>\n",
       "      <td>None</td>\n",
       "      <td>2021-06-14 23:59:56</td>\n",
       "      <td>0</td>\n",
       "      <td>571</td>\n",
       "      <td>México</td>\n",
       "    </tr>\n",
       "    <tr>\n",
       "      <th>2</th>\n",
       "      <td>Rubn12485642</td>\n",
       "      <td>1325763027480834048</td>\n",
       "      <td>@JBCPERU @reyconbarba #NuevasEleccionesPeru y ...</td>\n",
       "      <td>1404589452316524545</td>\n",
       "      <td>None</td>\n",
       "      <td>2021-06-14 23:59:56</td>\n",
       "      <td>0</td>\n",
       "      <td>70</td>\n",
       "      <td></td>\n",
       "    </tr>\n",
       "    <tr>\n",
       "      <th>3</th>\n",
       "      <td>PepitaPaquita</td>\n",
       "      <td>887133748810190848</td>\n",
       "      <td>#NuevasEleccionesPeru Lo justo, para que no qu...</td>\n",
       "      <td>1404589431730884614</td>\n",
       "      <td>None</td>\n",
       "      <td>2021-06-14 23:59:51</td>\n",
       "      <td>0</td>\n",
       "      <td>0</td>\n",
       "      <td>Peru</td>\n",
       "    </tr>\n",
       "    <tr>\n",
       "      <th>4</th>\n",
       "      <td>Justakindofsad</td>\n",
       "      <td>763481767558995968</td>\n",
       "      <td>Sin pruebas, sin hechos solamente con el ejerc...</td>\n",
       "      <td>1404589380011016198</td>\n",
       "      <td>None</td>\n",
       "      <td>2021-06-14 23:59:38</td>\n",
       "      <td>0</td>\n",
       "      <td>210</td>\n",
       "      <td>Room</td>\n",
       "    </tr>\n",
       "    <tr>\n",
       "      <th>...</th>\n",
       "      <td>...</td>\n",
       "      <td>...</td>\n",
       "      <td>...</td>\n",
       "      <td>...</td>\n",
       "      <td>...</td>\n",
       "      <td>...</td>\n",
       "      <td>...</td>\n",
       "      <td>...</td>\n",
       "      <td>...</td>\n",
       "    </tr>\n",
       "    <tr>\n",
       "      <th>8907</th>\n",
       "      <td>ClaudiaMazzaC1</td>\n",
       "      <td>1388674521461313541</td>\n",
       "      <td>Bueno, hagamos tendencia. El Perú ya no merece...</td>\n",
       "      <td>1403237433655783425</td>\n",
       "      <td>None</td>\n",
       "      <td>2021-06-11 06:27:29</td>\n",
       "      <td>35</td>\n",
       "      <td>22</td>\n",
       "      <td>Miraflores, Peru 🇦🇷 🇪🇸</td>\n",
       "    </tr>\n",
       "    <tr>\n",
       "      <th>8908</th>\n",
       "      <td>VTrascender</td>\n",
       "      <td>1333751572526936064</td>\n",
       "      <td>Pueblo peruano...marchamos por #NuevasEleccion...</td>\n",
       "      <td>1402994894197563406</td>\n",
       "      <td>None</td>\n",
       "      <td>2021-06-10 14:23:43</td>\n",
       "      <td>0</td>\n",
       "      <td>0</td>\n",
       "      <td>London, UK</td>\n",
       "    </tr>\n",
       "    <tr>\n",
       "      <th>8909</th>\n",
       "      <td>VTrascender</td>\n",
       "      <td>1333751572526936064</td>\n",
       "      <td>Así es...y Vizcarra el más votado, por eso deb...</td>\n",
       "      <td>1402994184194117637</td>\n",
       "      <td>None</td>\n",
       "      <td>2021-06-10 14:20:54</td>\n",
       "      <td>2</td>\n",
       "      <td>1</td>\n",
       "      <td>London, UK</td>\n",
       "    </tr>\n",
       "    <tr>\n",
       "      <th>8910</th>\n",
       "      <td>MundoJeans1</td>\n",
       "      <td>1377716185047957505</td>\n",
       "      <td>@grvrita @DiegoAcuOficial @JNE_Peru @ONPE_ofic...</td>\n",
       "      <td>1402446342669193218</td>\n",
       "      <td>None</td>\n",
       "      <td>2021-06-09 02:03:58</td>\n",
       "      <td>0</td>\n",
       "      <td>0</td>\n",
       "      <td>La Florida B13   Piura - Perú</td>\n",
       "    </tr>\n",
       "    <tr>\n",
       "      <th>8911</th>\n",
       "      <td>Karol22788882</td>\n",
       "      <td>1385709272143646721</td>\n",
       "      <td>@VLADIMIR_CERRON Terroristaass !!!\\nFRAUDE ELE...</td>\n",
       "      <td>1402079587534782464</td>\n",
       "      <td>None</td>\n",
       "      <td>2021-06-08 01:46:37</td>\n",
       "      <td>0</td>\n",
       "      <td>0</td>\n",
       "      <td></td>\n",
       "    </tr>\n",
       "  </tbody>\n",
       "</table>\n",
       "<p>8912 rows × 9 columns</p>\n",
       "</div>"
      ],
      "text/plain": [
       "           user_name  ...                       location\n",
       "0     Justakindofsad  ...                           Room\n",
       "1       Glamourocita  ...                         México\n",
       "2       Rubn12485642  ...                               \n",
       "3      PepitaPaquita  ...                           Peru\n",
       "4     Justakindofsad  ...                           Room\n",
       "...              ...  ...                            ...\n",
       "8907  ClaudiaMazzaC1  ...         Miraflores, Peru 🇦🇷 🇪🇸\n",
       "8908     VTrascender  ...                     London, UK\n",
       "8909     VTrascender  ...                     London, UK\n",
       "8910     MundoJeans1  ...  La Florida B13   Piura - Perú\n",
       "8911   Karol22788882  ...                               \n",
       "\n",
       "[8912 rows x 9 columns]"
      ]
     },
     "metadata": {
      "tags": []
     },
     "execution_count": 11
    }
   ]
  },
  {
   "cell_type": "code",
   "metadata": {
    "id": "A3nEmihDJVPC",
    "executionInfo": {
     "status": "ok",
     "timestamp": 1623769135182,
     "user_tz": 300,
     "elapsed": 2930,
     "user": {
      "displayName": "ANTHONY WAINER CACHAY GUIVIN",
      "photoUrl": "https://lh3.googleusercontent.com/a-/AOh14GhAz8h657S9s4TGvAa5jYfK_MRhcxtzLYghUq1w=s64",
      "userId": "18006927705842779531"
     }
    },
    "pycharm": {
     "name": "#%%\n"
    }
   },
   "source": [
    "df.to_excel(\"output.xlsx\")\n"
   ],
   "execution_count": 12,
   "outputs": []
  }
 ]
}